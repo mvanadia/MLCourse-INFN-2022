{
 "cells": [
  {
   "cell_type": "markdown",
   "metadata": {},
   "source": [
    "# Hands-on Day 2\n",
    "\n",
    "- course [slides](https://github.com/Course-bigDataAndML/MLCourse-INFN-2022/blob/master/Slides/Day2/Big%20data%20science%20-%20Day%202%20-%20INFN%202022.pdf)\n",
    "\n",
    "\n",
    "## You'll learn\n",
    "\n",
    "### ML methods\n",
    "\n",
    "- Multilayer Perceptron Classifier (MCP) with pyspark.ml\n",
    "\n",
    "### ML techniques\n",
    "\n",
    "- hyperparameter optimisation\n",
    "- ROC curves"
   ]
  },
  {
   "cell_type": "code",
   "execution_count": 1,
   "metadata": {},
   "outputs": [],
   "source": [
    "import pandas as pd\n",
    "import numpy as np\n",
    "import matplotlib.pyplot as plt\n",
    "%matplotlib inline\n",
    "\n",
    "# our custom functions\n",
    "from custom_functions import *"
   ]
  },
  {
   "cell_type": "markdown",
   "metadata": {},
   "source": [
    "#### Remember to start spark by clicking on the square icon all the way to the right\n",
    "\n",
    "Setup and restart the Spark context with our configuration"
   ]
  },
  {
   "cell_type": "code",
   "execution_count": 2,
   "metadata": {},
   "outputs": [
    {
     "data": {
      "text/html": [
       "\n",
       "        <div>\n",
       "            <p><b>SparkContext</b></p>\n",
       "\n",
       "            <p><a href=\"http://10.244.2.13:4040\">Spark UI</a></p>\n",
       "\n",
       "            <dl>\n",
       "              <dt>Version</dt>\n",
       "                <dd><code>v3.0.1</code></dd>\n",
       "              <dt>Master</dt>\n",
       "                <dd><code>k8s://https://kubernetes:443</code></dd>\n",
       "              <dt>AppName</dt>\n",
       "                <dd><code>MyApp</code></dd>\n",
       "            </dl>\n",
       "        </div>\n",
       "        "
      ],
      "text/plain": [
       "<SparkContext master=k8s://https://kubernetes:443 appName=MyApp>"
      ]
     },
     "execution_count": 2,
     "metadata": {},
     "output_type": "execute_result"
    }
   ],
   "source": [
    "from pyspark.sql import SparkSession\n",
    "from pyspark import SparkConf, SparkContext\n",
    "\n",
    "# get token to authenticate to minio storage\n",
    "!eval `oidc-keychain` > /dev/null && oidc-token dodas --time=3600 > /tmp/token\n",
    "with open('/tmp/token') as f:\n",
    "    token = f.readlines()[0].split(\"\\n\")[0]\n",
    "\n",
    "# build Spark configuration options    \n",
    "conf = setupSpark(token)\n",
    "\n",
    "# to update Spark config, we need first to stop the spark context\n",
    "SparkContext.stop(sc)\n",
    "\n",
    "# Then create first spark context, and then session\n",
    "sc = SparkContext(conf = conf)\n",
    "spark = SparkSession.builder.config(conf=conf).getOrCreate()\n",
    "\n",
    "# check if Spark is there\n",
    "sc"
   ]
  },
  {
   "cell_type": "markdown",
   "metadata": {},
   "source": [
    "# Data preprocessing"
   ]
  },
  {
   "cell_type": "code",
   "execution_count": 3,
   "metadata": {},
   "outputs": [
    {
     "name": "stdout",
     "output_type": "stream",
     "text": [
      "CPU times: user 6.28 ms, sys: 3.32 ms, total: 9.6 ms\n",
      "Wall time: 6.58 s\n",
      "There are 99999 events\n"
     ]
    }
   ],
   "source": [
    "inputFile = \"s3a://scratch/legger/higgs/Higgs100k.parquet\"\n",
    "\n",
    "%time df = spark.read.format('parquet').option('header', 'true').option('inferschema', 'true').load(inputFile)\n",
    "\n",
    "total_events = df.count()\n",
    "print('There are '+str(total_events)+' events')"
   ]
  },
  {
   "cell_type": "code",
   "execution_count": 4,
   "metadata": {},
   "outputs": [
    {
     "name": "stdout",
     "output_type": "stream",
     "text": [
      "Events for training 79964\n",
      "Events for validation 20035\n"
     ]
    }
   ],
   "source": [
    "#split the dataset for training and test\n",
    "train, test = df.randomSplit([0.8,0.2])\n",
    "\n",
    "print('Events for training {}'.format(train.count()))\n",
    "print('Events for validation {}'.format(test.count()))"
   ]
  },
  {
   "cell_type": "code",
   "execution_count": 6,
   "metadata": {},
   "outputs": [
    {
     "name": "stdout",
     "output_type": "stream",
     "text": [
      "['lepton_pT', 'lepton_eta', 'lepton_phi', 'missing_energy_magnitude', 'missing_energy_phi', 'jet1_pt', 'jet1_eta', 'jet1_phi', 'jet1_b-tag', 'jet2_pt', 'jet2_eta', 'jet2_phi', 'jet2_b-tag', 'jet3_pt', 'jet3_eta', 'jet3_phi', 'jet3_b-tag', 'jet4_pt', 'je4_eta', 'jet4_phi', 'jet4_b-tag', 'm_jj', 'm_jjj', 'm_lv', 'm_jlv', 'm_bb', 'm_wbb', 'm_wwbb']\n",
      "28\n"
     ]
    }
   ],
   "source": [
    "# create the input feature vector \n",
    "feature = train.columns\n",
    "feature.remove('label')\n",
    "\n",
    "from pyspark.ml.feature import VectorAssembler\n",
    "print(feature)\n",
    "print(str(len(feature)))\n",
    "\n",
    "#VectorAssembler is a transformer that combines a given list of columns into a single vector column\n",
    "assembler = VectorAssembler(inputCols=feature, outputCol='features')\n",
    "train = assembler.transform(train)\n",
    "test = assembler.transform(test)"
   ]
  },
  {
   "cell_type": "markdown",
   "metadata": {},
   "source": [
    "# Exercise 1\n",
    "\n",
    "- Implement a shallow NN: use *MultiLayerPerceptronClassifier* from pyspark\n",
    "- documentation: https://spark.apache.org/docs/latest/ml-classification-regression.html#multilayer-perceptron-classifier\n",
    "- implement a network with: \n",
    "  - one input layer of size 28 (our features), \n",
    "  - two intermediate layers of size 30,\n",
    "  - one output of size 2 (the label classes)\n",
    "  - other hyerparameters: maxIter=100, blockSize=128, seed=1234\n",
    "- plot the various metrics (ROC, signal vs background)\n",
    "- bonus: do hyperparameter optimisation"
   ]
  },
  {
   "cell_type": "code",
   "execution_count": 7,
   "metadata": {},
   "outputs": [],
   "source": [
    "from pyspark.ml.classification import MultilayerPerceptronClassifier\n",
    "\n",
    "# Your code here\n",
    "mpc = MultilayerPerceptronClassifier(layers =[28,30,30,2], maxIter=100, blockSize=128, seed=1234)"
   ]
  },
  {
   "cell_type": "code",
   "execution_count": 8,
   "metadata": {},
   "outputs": [
    {
     "name": "stdout",
     "output_type": "stream",
     "text": [
      "CPU times: user 742 ms, sys: 163 ms, total: 905 ms\n",
      "Wall time: 1min 46s\n"
     ]
    }
   ],
   "source": [
    "%%time\n",
    "model_mpc = mpc.fit(train)"
   ]
  },
  {
   "cell_type": "code",
   "execution_count": 9,
   "metadata": {},
   "outputs": [
    {
     "name": "stdout",
     "output_type": "stream",
     "text": [
      "Test set AUC = 0.7329282217415605\n",
      "AUC: 0.733\n",
      "+-----+----------+-----+\n",
      "|label|prediction|count|\n",
      "+-----+----------+-----+\n",
      "|  1.0|       1.0| 7913|\n",
      "|  0.0|       1.0| 3783|\n",
      "|  1.0|       0.0| 2723|\n",
      "|  0.0|       0.0| 5616|\n",
      "+-----+----------+-----+\n",
      "\n",
      "n precision: 0.677\n",
      "n recall: 0.744\n",
      "n accuracy: 0.675\n",
      "n F1 score: 0.709\n"
     ]
    }
   ],
   "source": [
    "# compute accuracy on the test set\n",
    "from pyspark.ml.evaluation import BinaryClassificationEvaluator\n",
    "\n",
    "#Your code here\n",
    "result = model_mpc.transform(test)\n",
    "\n",
    "from pyspark.ml.evaluation import BinaryClassificationEvaluator\n",
    "evaluator = BinaryClassificationEvaluator(labelCol='label', metricName=\"areaUnderROC\")\n",
    "print(\"Test set AUC = \" + str(evaluator.evaluate(result)))\n",
    "\n",
    "printMetrics(evaluator,result)"
   ]
  },
  {
   "cell_type": "code",
   "execution_count": 10,
   "metadata": {},
   "outputs": [
    {
     "data": {
      "image/png": "[encoded data removed]",
      "text/plain": [
       "<Figure size 432x288 with 1 Axes>"
      ]
     },
     "metadata": {
      "needs_background": "light"
     },
     "output_type": "display_data"
    }
   ],
   "source": [
    "#make ROC curve\n",
    "\n",
    "# Your code here\n",
    "model_mpc.extractParamMap()\n",
    "\n",
    "drawROC(result)"
   ]
  },
  {
   "cell_type": "code",
   "execution_count": null,
   "metadata": {},
   "outputs": [],
   "source": [
    "#plot signal vs background with prediction\n",
    "\n",
    "# Your code here\n",
    "plotSignalvsBgWithPrediction(test, result, 'm_bb')"
   ]
  },
  {
   "cell_type": "code",
   "execution_count": null,
   "metadata": {},
   "outputs": [],
   "source": []
  }
 ],
 "metadata": {
  "kernelspec": {
   "display_name": "Python 3",
   "language": "python",
   "name": "python3"
  },
  "language_info": {
   "codemirror_mode": {
    "name": "ipython",
    "version": 3
   },
   "file_extension": ".py",
   "mimetype": "text/x-python",
   "name": "python",
   "nbconvert_exporter": "python",
   "pygments_lexer": "ipython3",
   "version": "3.8.5"
  },
  "sparkconnect": {
   "bundled_options": [],
   "list_of_options": []
  }
 },
 "nbformat": 4,
 "nbformat_minor": 2
}
